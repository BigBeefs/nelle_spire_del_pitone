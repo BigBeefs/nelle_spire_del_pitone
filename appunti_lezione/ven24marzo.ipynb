{
 "cells": [
  {
   "attachments": {},
   "cell_type": "markdown",
   "metadata": {},
   "source": [
    "# Back-end / Front-end\n",
    "\n",
    "La parte front-end viene 'alimentata' dal web server che renderizza le pagine\n",
    "\n",
    "Anche per il back-end c'è un server (servizio) che gira e compie operazioni\n",
    "\n",
    "La comunicazione tra front e back può essere complicata anche perchè c'è bisogno (spesso) di usare due linguaggi diversi.\n",
    "\n",
    "## Streamlit\n",
    "\n",
    "Si tratta di un **framework** che pertmette di interagire nello stesso momento con front-end e back-end"
   ]
  }
 ],
 "metadata": {
  "kernelspec": {
   "display_name": "Python 3",
   "language": "python",
   "name": "python3"
  },
  "language_info": {
   "name": "python",
   "version": "3.10.6"
  },
  "orig_nbformat": 4
 },
 "nbformat": 4,
 "nbformat_minor": 2
}
