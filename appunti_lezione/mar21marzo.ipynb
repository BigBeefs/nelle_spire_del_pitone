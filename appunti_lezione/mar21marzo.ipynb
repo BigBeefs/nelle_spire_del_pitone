{
 "cells": [
  {
   "attachments": {},
   "cell_type": "markdown",
   "metadata": {},
   "source": [
    "## Funzioni con python\n",
    "\n",
    "Blocchi di codice riutilizzabili\n",
    "*Dati input -> elaborazione -> Output*\n",
    "\n",
    "Le librerie sono piene di funzioni che possiamo usare per implementare funzionalità nel nostro codice.\n",
    "\n",
    "Occhio ai nomi delle funzioni, non usare nomi che hanno altri 'usi' perché si potrebbero oscurare le funzionalità di base.\n",
    "\n",
    "- Sintassi"
   ]
  },
  {
   "cell_type": "code",
   "execution_count": 1,
   "metadata": {},
   "outputs": [
    {
     "name": "stdout",
     "output_type": "stream",
     "text": [
      "Hello World!\n",
      "Sono una funzione\n"
     ]
    }
   ],
   "source": [
    "def greetings():\n",
    "    print(\"Hello World!\")\n",
    "    print(\"Sono una funzione\")\n",
    "\n",
    "greetings()\n"
   ]
  },
  {
   "attachments": {},
   "cell_type": "markdown",
   "metadata": {},
   "source": [
    "### Funzioni con input\n",
    "\n",
    "per poter far lavorare la fz con altri parti del codice posso passare degli argomenti che poi la fz processa\n"
   ]
  },
  {
   "cell_type": "code",
   "execution_count": 3,
   "metadata": {},
   "outputs": [
    {
     "name": "stdout",
     "output_type": "stream",
     "text": [
      "la somma dei numeri  12 11 12 è  35  la prossima volta usi una calcolatrice\n",
      "grazie!\n"
     ]
    }
   ],
   "source": [
    "def somma_tre_num(a,b,c):\n",
    "    print(\"la somma dei numeri \", str(a), str(b), str(c), \"è \", str(a+b+c),\" la prossima volta usi una calcolatrice\\ngrazie!\")\n",
    "\n",
    "somma_tre_num(int(input('inserisci il primo num')), int(input('inserisci il secondo num')), int(input('il terzo...')))"
   ]
  },
  {
   "cell_type": "code",
   "execution_count": null,
   "metadata": {},
   "outputs": [],
   "source": [
    "def somma_tre_num(a,b,c):\n",
    "    if type(a) == 'int' and type(b) == 'int' and type(c) == 'int':\n",
    "        print(\"la somma dei numeri \", str(a), str(b), str(c), \"è \", str(a+b+c),\" la prossima volta usi una calcolatrice\\ngrazie!\")\n",
    "    else:\n",
    "        print('ho bisogno di numeri e solo numeri')\n",
    "somma_tre_num(int(input('inserisci il primo num')), int(input('inserisci il secondo num')), int(input('il terzo...')))"
   ]
  },
  {
   "attachments": {},
   "cell_type": "markdown",
   "metadata": {},
   "source": [
    "### Funzioni che ritornano un valore\n",
    "\n",
    "la parola chiave è **return**\n",
    "\n",
    "N.B. best practice mettere sempre un commento multilinea `\"\"\"Commento\"\"\"` per spiegare cosa fa la funzione.\n",
    "è possibile anche indicare il tipo della variabile che però non è un vincolo\n"
   ]
  },
  {
   "cell_type": "code",
   "execution_count": 10,
   "metadata": {},
   "outputs": [
    {
     "name": "stdout",
     "output_type": "stream",
     "text": [
      "il perimetro del cerchio di raggio  12 è:\n",
      " 75.39822368615503 \n",
      "La sua area è:\n",
      " 452.3893421169302\n"
     ]
    }
   ],
   "source": [
    "from math import pi\n",
    "\n",
    "def area_rect(base:float, altezza:float) -> float:\n",
    "    \"\"\"ritorna float che è l'area calcolata con base e altezza\"\"\"\n",
    "    return base * altezza\n",
    "\n",
    "def perim_rect(base:float, altezza:float) -> float:\n",
    "    \"\"\"ritorna float che è il perimetro calcolato con base e altezza\"\"\"\n",
    "    return 2*base + 2*altezza\n",
    "\n",
    "def area_cerchio(raggio:float) -> float:\n",
    "    \"\"\"ritorna float area del cerchio\"\"\"\n",
    "    return pi * raggio**2\n",
    "\n",
    "def perim_cerchio(raggio:float) -> float:\n",
    "    \"\"\"ritorna float perimetro del cerchio\"\"\"\n",
    "    return 2*pi*raggio\n",
    "\n",
    "def rettangolo(base:float, altezza:float) -> tuple:\n",
    "    \"\"\"primo float è perimetro del rettangolo, secondo float rappresenta l'area\"\"\"\n",
    "    return (perim_rect(base, altezza), area_rect(base, altezza))\n",
    "\n",
    "base1 = 12\n",
    "altezza1 = 13\n",
    "r = 12.0 #metri\n",
    "\n",
    "area1, perimetro1 = rettangolo(base1, altezza1)\n",
    "print(\"il rettangolo ha base:\\n\", str(base1), \"\\ne altezza:\\n\", str(altezza1), \"\")\n",
    "print(\"il perimetro del cerchio di raggio \", str(r), \"è:\\n\", str(perim_cerchio(r)),\"\\nLa sua area è:\\n\", area_cerchio(r))\n"
   ]
  },
  {
   "attachments": {},
   "cell_type": "markdown",
   "metadata": {},
   "source": [
    "### Moduli \n",
    "\n",
    "Importare file che contengono librerie generate da noi:\n",
    "la sintassi è \n",
    "\n",
    "`from nome_libreria import nome_funzione`\n",
    "\n",
    "nel nome libreria non serve l'estensione"
   ]
  },
  {
   "cell_type": "code",
   "execution_count": 9,
   "metadata": {},
   "outputs": [
    {
     "name": "stdout",
     "output_type": "stream",
     "text": [
      "Area 2: 1376\n",
      "Perimetro: 150\n",
      "Rettangolo:\n",
      "base: 32\n",
      "altezza: 43\n",
      "Area->1376\n",
      "Perimetro->150\n"
     ]
    }
   ],
   "source": [
    "#from formule import lib_area_rect, lib_perim_rect #prima di spostare formule in modulo funzionava\n",
    "from modulo.formule import lib_area_rect as ar\n",
    "from modulo.formule import lib_perim_rect as pr\n",
    "\n",
    "b, a = 32, 43\n",
    "area2 = lib_area_rect(b, a)\n",
    "perim2 = lib_perim_rect(b, a)\n",
    "print(f\"Area 2: {area2}\\nPerimetro: {perim2}\")\n",
    "print(f\"Rettangolo:\\nbase: {b}\\naltezza: {a}\\nArea->{ar(b,a)}\\nPerimetro->{pr(b,a)}\")\n",
    "\n"
   ]
  },
  {
   "attachments": {},
   "cell_type": "markdown",
   "metadata": {},
   "source": [
    "#### Il file dunder (double underscore) init!!!\n",
    "il file init è un file vuoto che deve essere presente in ogni cartella che contiene moduli o librerie.\n",
    "Il modo di chiamare il modulo diventa nome_cartella.nome_modulo\n",
    "\n",
    "n.b. il pycache si genera automaticamente in runtime, è meglio metterli in .gitignore per evitare di portare roba inutile sulla repository"
   ]
  },
  {
   "attachments": {},
   "cell_type": "markdown",
   "metadata": {},
   "source": [
    "----\n",
    "\n",
    "# Classi Che Passioni!!!\n",
    "\n",
    "*la classe è un contenitore di funzioni e varibili che in questo contesto si chiamano metodi e attributi rispettivamente*\n",
    "\n",
    "Gli attributi vengono definiti nel costruttore `__init__(self, parametri)`"
   ]
  },
  {
   "cell_type": "code",
   "execution_count": 22,
   "metadata": {},
   "outputs": [
    {
     "name": "stdout",
     "output_type": "stream",
     "text": [
      "<__main__.Persona object at 0x7f3c7446d210>\n",
      "Pietro\n",
      "34\n",
      "<class 'int'>\n"
     ]
    }
   ],
   "source": [
    "#Sintassi per definire una classe:\n",
    "\n",
    "class LaMiaClasse:\n",
    "    pass\n",
    "#nome classe lettera maiuscola \n",
    "\n",
    "class Persona:\n",
    "    \"\"\"contiene gli attributi di una persona\"\"\"\n",
    "    def __init__(self, n, e):\n",
    "        self.nome = n\n",
    "        self.eta = e\n",
    "\n",
    "    #Metodo\n",
    "    def quadrato_anni(self):\n",
    "        \"\"\"calcola in quadrato degli anni\"\"\"\n",
    "        return self.eta**2\n",
    "\n",
    "#Istanziare un oggetto di tipo Persona\n",
    "\n",
    "pietro = Persona(\"Pietro\", 34)\n",
    "print(pietro) #output: <__main__.Persona object at 0x7f3c74471450>\n",
    "print(pietro.nome) #output: Pietro\n",
    "print(pietro.eta) #output: 34\n",
    "print(type(pietro.eta)) #output: <class 'int'>"
   ]
  },
  {
   "attachments": {},
   "cell_type": "markdown",
   "metadata": {},
   "source": [
    "esiste il metodo __str__ che mostra tutti gli attributi in una stringa "
   ]
  },
  {
   "attachments": {},
   "cell_type": "markdown",
   "metadata": {},
   "source": [
    "## metodi \n",
    "\n",
    "Funzioni che appartengono alla classe ad esempio potrei avere una funzione che calcola il codice fiscale dentro la classe persona."
   ]
  },
  {
   "cell_type": "code",
   "execution_count": 19,
   "metadata": {},
   "outputs": [
    {
     "data": {
      "text/plain": [
       "1296"
      ]
     },
     "execution_count": 19,
     "metadata": {},
     "output_type": "execute_result"
    }
   ],
   "source": [
    "marco = Persona(\"Marco\", 36)\n",
    "marco.quadrato_anni()"
   ]
  },
  {
   "cell_type": "code",
   "execution_count": null,
   "metadata": {},
   "outputs": [],
   "source": [
    "from modulo.mieclassi import Cubo\n"
   ]
  },
  {
   "attachments": {},
   "cell_type": "markdown",
   "metadata": {},
   "source": [
    "----\n",
    "\n",
    "# Lambda Functions\n",
    "\n",
    "funzioni monouso.\n",
    "Servono a generare trasformazioni rapide, si usano con pandas per modificare i dati ad esempio di un'intera colonna.\n",
    "\n"
   ]
  },
  {
   "cell_type": "code",
   "execution_count": 34,
   "metadata": {},
   "outputs": [
    {
     "data": {
      "text/plain": [
       "17"
      ]
     },
     "execution_count": 34,
     "metadata": {},
     "output_type": "execute_result"
    }
   ],
   "source": [
    "(lambda x : x**2)(4)\n",
    "(lambda y : y+1)((lambda x : x**2)(4))"
   ]
  },
  {
   "cell_type": "code",
   "execution_count": 33,
   "metadata": {},
   "outputs": [
    {
     "data": {
      "text/plain": [
       "256"
      ]
     },
     "execution_count": 33,
     "metadata": {},
     "output_type": "execute_result"
    }
   ],
   "source": [
    "#Passo una variabile alla lambda funcion\n",
    "base = 4\n",
    "(lambda z : z ** 4)(base)\n"
   ]
  },
  {
   "cell_type": "code",
   "execution_count": 35,
   "metadata": {},
   "outputs": [
    {
     "name": "stdout",
     "output_type": "stream",
     "text": [
      "<function <lambda> at 0x7f3c74192a70>\n",
      "256\n"
     ]
    }
   ],
   "source": [
    "#Assegnare il risultato della lambda fz a una var\n",
    "pow4 = lambda x : pow(x,4)\n",
    "print(pow4) #la variabile contiene la funzione\n",
    "print(pow4(4)) #la invoco così\n",
    "\n"
   ]
  },
  {
   "cell_type": "code",
   "execution_count": 36,
   "metadata": {},
   "outputs": [
    {
     "data": {
      "text/plain": [
       "11"
      ]
     },
     "execution_count": 36,
     "metadata": {},
     "output_type": "execute_result"
    }
   ],
   "source": [
    "#parametri multipli \n",
    "(lambda x, y, z : x*y + y*z + z*x )(1,2,3)\n"
   ]
  },
  {
   "cell_type": "code",
   "execution_count": 37,
   "metadata": {},
   "outputs": [
    {
     "data": {
      "text/plain": [
       "75"
      ]
     },
     "execution_count": 37,
     "metadata": {},
     "output_type": "execute_result"
    }
   ],
   "source": [
    "#Numero variabile di parametri \n",
    "(lambda *args : sum(args))(3,4,5,6,7,8,9,10,11,12)\n"
   ]
  }
 ],
 "metadata": {
  "kernelspec": {
   "display_name": "pyside6",
   "language": "python",
   "name": "python3"
  },
  "language_info": {
   "codemirror_mode": {
    "name": "ipython",
    "version": 3
   },
   "file_extension": ".py",
   "mimetype": "text/x-python",
   "name": "python",
   "nbconvert_exporter": "python",
   "pygments_lexer": "ipython3",
   "version": "3.10.6"
  },
  "orig_nbformat": 4
 },
 "nbformat": 4,
 "nbformat_minor": 2
}
