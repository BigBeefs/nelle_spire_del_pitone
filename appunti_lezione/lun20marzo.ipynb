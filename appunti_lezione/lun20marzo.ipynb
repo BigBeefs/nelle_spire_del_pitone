{
 "cells": [
  {
   "cell_type": "code",
   "execution_count": 1,
   "metadata": {},
   "outputs": [
    {
     "data": {
      "text/plain": [
       "[11, -2, 6, 9, 42]"
      ]
     },
     "execution_count": 1,
     "metadata": {},
     "output_type": "execute_result"
    }
   ],
   "source": [
    "l = [11, -2, 6, 9, 42] \n",
    "l"
   ]
  },
  {
   "attachments": {},
   "cell_type": "markdown",
   "metadata": {},
   "source": [
    "## Lista \n",
    "la lista può contenere variabile di tipo diverso tra loro\n",
    "\n",
    "### Oerazioni sulle lusta \n",
    "\n",
    "l'operatore * riproduce gli elementi dentro la lista\n"
   ]
  },
  {
   "cell_type": "code",
   "execution_count": 2,
   "metadata": {},
   "outputs": [
    {
     "data": {
      "text/plain": [
       "[4, 4, 4, 4, 4]"
      ]
     },
     "execution_count": 2,
     "metadata": {},
     "output_type": "execute_result"
    }
   ],
   "source": [
    "lst = [4] * 5 \n",
    "lst"
   ]
  },
  {
   "attachments": {},
   "cell_type": "markdown",
   "metadata": {},
   "source": [
    "### Per aggiungere elementi nella lista\n",
    "si può usare il *metodo* append con la dot notation: lista.append(elemento da aggiungere in fondo)\n",
    "\n",
    "- l'operatore + concatena 2 liste, in alternativa si può usare .extend()"
   ]
  },
  {
   "cell_type": "code",
   "execution_count": 5,
   "metadata": {},
   "outputs": [
    {
     "data": {
      "text/plain": [
       "[11, -2, 6, 9, 42, 4, 4, 4, 4, 4, 42, 42, 42]"
      ]
     },
     "execution_count": 5,
     "metadata": {},
     "output_type": "execute_result"
    }
   ],
   "source": [
    "lst.append(42)\n",
    "lst\n",
    "\n",
    "l.extend(lst)\n",
    "l"
   ]
  },
  {
   "attachments": {},
   "cell_type": "markdown",
   "metadata": {},
   "source": [
    "con le liste posso selezionare gli elementi con le parentesi [] passando il numero dell'indice, se parto dalla fine della lista inizio da -1. quindi l'ultimo elemento della lista ha indice -1\n"
   ]
  },
  {
   "cell_type": "code",
   "execution_count": 10,
   "metadata": {},
   "outputs": [
    {
     "data": {
      "text/plain": [
       "2012"
      ]
     },
     "execution_count": 10,
     "metadata": {},
     "output_type": "execute_result"
    }
   ],
   "source": [
    "anno = [2009, 2010, 2011, 2012]\n",
    "ultimo_anno = anno[-1]\n",
    "ultimo_anno"
   ]
  },
  {
   "attachments": {},
   "cell_type": "markdown",
   "metadata": {},
   "source": [
    "Selezione parti di liste: slicing\n",
    "\n",
    "si usa l'operatore : tra quadre quindi anno[0:2] parte dal primo indice compreso e arriva fino all'indice dopo il : escluso\n",
    "`lista[start:stop]`\n",
    "esempio per cancellare parte della lista anno:\n"
   ]
  },
  {
   "cell_type": "code",
   "execution_count": 11,
   "metadata": {},
   "outputs": [
    {
     "data": {
      "text/plain": [
       "[2011, 2012]"
      ]
     },
     "execution_count": 11,
     "metadata": {},
     "output_type": "execute_result"
    }
   ],
   "source": [
    "del anno[0:2]\n",
    "anno"
   ]
  },
  {
   "attachments": {},
   "cell_type": "markdown",
   "metadata": {},
   "source": [
    "Posso anche eliminare elementi semplicemente chiamandoli\n"
   ]
  },
  {
   "cell_type": "code",
   "execution_count": 12,
   "metadata": {},
   "outputs": [
    {
     "data": {
      "text/plain": [
       "['Anna', 'Adriana', 'Maria']"
      ]
     },
     "execution_count": 12,
     "metadata": {},
     "output_type": "execute_result"
    }
   ],
   "source": [
    "nomi = [\"Anna\", \"Adriana\", \"Maria\", \"Susanna\"]\n",
    "nomi.remove(\"Susanna\")\n",
    "nomi"
   ]
  },
  {
   "attachments": {},
   "cell_type": "markdown",
   "metadata": {},
   "source": [
    "### Occhio al range\n",
    "Se chiamo una lista a un indice che non esiste, mi sputa un errore IndexErro out of index."
   ]
  },
  {
   "attachments": {},
   "cell_type": "markdown",
   "metadata": {},
   "source": [
    "---\n",
    "\n",
    "### Cicli for\n",
    "- Esercizio:\n",
    "  creare una lista di int da 0 a 10 e ciclare sulla lista per creare una nuova lista con i quadrati dei numeri da 0 a 10\n",
    "  "
   ]
  },
  {
   "cell_type": "code",
   "execution_count": 13,
   "metadata": {},
   "outputs": [
    {
     "name": "stdout",
     "output_type": "stream",
     "text": [
      "11\n",
      "-2\n",
      "6\n",
      "9\n",
      "42\n",
      "4\n",
      "4\n",
      "4\n",
      "4\n",
      "4\n",
      "42\n",
      "42\n",
      "42\n"
     ]
    }
   ],
   "source": [
    "for pippo in l:\n",
    "    print(pippo)"
   ]
  },
  {
   "attachments": {},
   "cell_type": "markdown",
   "metadata": {},
   "source": [
    "pippo è una variabile che viene creata per essere usata nel ciclo, non è necessario che sia dichiarata prima\n",
    "\n",
    "**Posso usare lo slicing** sull'oggetto che fa da iteratore, dandogli uno start uno stop ed eventualmente anche uno step. \n",
    "\n",
    "`[start:stop:step]`\n",
    "\n",
    "\n",
    "#### Range\n",
    "\n",
    "Funzione che produce una sequenza di numeri dallo start allo stop e se indicato incrementa di uno step dato.\n",
    "Di defaut lo step è 1\n",
    "Per produrre una lista di numeri pari da 1 a 100 devo invocare la fz range con start 1, stop 101, step 2:"
   ]
  },
  {
   "cell_type": "code",
   "execution_count": 24,
   "metadata": {},
   "outputs": [],
   "source": [
    "lista_pari = list(range(0,101,2))\n",
    "type(lista_pari)"
   ]
  },
  {
   "cell_type": "code",
   "execution_count": 23,
   "metadata": {},
   "outputs": [
    {
     "data": {
      "text/plain": [
       "range(0, 101, 2)"
      ]
     },
     "execution_count": 23,
     "metadata": {},
     "output_type": "execute_result"
    }
   ],
   "source": [
    "range_pari = range(0,101,2)\n",
    "range_pari"
   ]
  },
  {
   "cell_type": "code",
   "execution_count": 29,
   "metadata": {},
   "outputs": [
    {
     "name": "stdout",
     "output_type": "stream",
     "text": [
      "0\n",
      "0\n",
      "1\n",
      "1\n",
      "2\n",
      "4\n",
      "3\n",
      "9\n",
      "4\n",
      "16\n",
      "5\n",
      "25\n",
      "6\n",
      "36\n",
      "7\n",
      "49\n",
      "8\n",
      "64\n",
      "9\n",
      "81\n",
      "10\n",
      "100\n"
     ]
    },
    {
     "data": {
      "text/plain": [
       "[0, 1, 4, 9, 16, 25, 36, 49, 64, 81, 100]"
      ]
     },
     "execution_count": 29,
     "metadata": {},
     "output_type": "execute_result"
    }
   ],
   "source": [
    "lst1 = list(range(0,11))\n",
    "square = lis5 > 6 and 6 > 5 \n",
    "\n",
    "# better = [num**2 for num in lst1]\n",
    "# better"
   ]
  },
  {
   "attachments": {},
   "cell_type": "markdown",
   "metadata": {},
   "source": [
    "### List comprehension\n"
   ]
  },
  {
   "cell_type": "code",
   "execution_count": 31,
   "metadata": {},
   "outputs": [
    {
     "data": {
      "text/plain": [
       "[0, 1, 8, 27, 64, 125, 216, 343, 512, 729, 1000]"
      ]
     },
     "execution_count": 31,
     "metadata": {},
     "output_type": "execute_result"
    }
   ],
   "source": [
    "cube = [pow(n,3) for n in range(11)]\n",
    "cube"
   ]
  },
  {
   "attachments": {},
   "cell_type": "markdown",
   "metadata": {},
   "source": [
    "## DICTIONARY!!!! \n",
    "Funzione dict per creare dictionary\n",
    "\n",
    "sono key value pair, le key devono essere univoche!\n",
    "\n",
    "{'key':'value'} oppure {'key': {'key1': 'value1' }} oppure {'key': [1,2,3,3,4,55,42,10]}\n",
    "\n",
    "il valore può essere un altro dict o una lista o qualsiasi altro tipo di valore"
   ]
  },
  {
   "cell_type": "code",
   "execution_count": 32,
   "metadata": {},
   "outputs": [],
   "source": [
    "dictionary_vuoto = {}\n",
    "dizionario_vuoto = dict()"
   ]
  },
  {
   "cell_type": "code",
   "execution_count": null,
   "metadata": {},
   "outputs": [],
   "source": []
  },
  {
   "attachments": {},
   "cell_type": "markdown",
   "metadata": {},
   "source": [
    "per richiamare tutti i valori del dict uso il metodo values() per avere tutte le key uso keys()\n",
    "\n",
    "si può usare lo zip su due liste con uguale lenght per creare un dizionario\n",
    "\n"
   ]
  },
  {
   "attachments": {},
   "cell_type": "markdown",
   "metadata": {},
   "source": [
    "## tuple \n",
    "SONO IMMUTABILI\n",
    "Non possono essere riassegnate \n",
    "\n",
    "Sono dichiarate tra parentesi tonde\n",
    "\n",
    "il metodo sort nelle tuple ritorna una lista con gli stessi elementi ordinati\n",
    "\n"
   ]
  },
  {
   "cell_type": "code",
   "execution_count": 109,
   "metadata": {},
   "outputs": [
    {
     "data": {
      "text/plain": [
       "[(1, 2, 3), (7, 9, 6)]"
      ]
     },
     "execution_count": 109,
     "metadata": {},
     "output_type": "execute_result"
    }
   ],
   "source": [
    "tup1 = (1,2,3)\n",
    "tup2 = (7,9,6)\n",
    "\n",
    "tuples = [tup1, tup2]\n",
    "tuples"
   ]
  },
  {
   "cell_type": "code",
   "execution_count": 35,
   "metadata": {},
   "outputs": [
    {
     "data": {
      "text/plain": [
       "6"
      ]
     },
     "execution_count": 35,
     "metadata": {},
     "output_type": "execute_result"
    }
   ],
   "source": [
    "#selezione elementi nestati\n",
    "tuples[1][2] #ritorna il 6 ovvero l'ultimo elemento della seconda tupla"
   ]
  },
  {
   "attachments": {},
   "cell_type": "markdown",
   "metadata": {},
   "source": [
    "## Array\n",
    "\n",
    "Gli array non sono nativi in python, si trovano nella libreria numpy solitamente importati con l'alias np"
   ]
  },
  {
   "cell_type": "code",
   "execution_count": 37,
   "metadata": {},
   "outputs": [
    {
     "data": {
      "text/plain": [
       "array(['USA', 'JPN', 'IT'], dtype='<U3')"
      ]
     },
     "execution_count": 37,
     "metadata": {},
     "output_type": "execute_result"
    }
   ],
   "source": [
    "import numpy as np\n",
    "\n",
    "country = np.array([\"USA\", \"JPN\", \"IT\"])\n",
    "country"
   ]
  },
  {
   "attachments": {},
   "cell_type": "markdown",
   "metadata": {},
   "source": [
    "### Shape dell'array\n",
    "\n",
    "metodo che torna il numero delle righe e delle colonne\n",
    "\n",
    "Array monodimensionali np.array([]) \n",
    "array più dimensioni \n",
    "\n",
    "`np.array([[1,2,3],[4,5,6]])`"
   ]
  },
  {
   "cell_type": "code",
   "execution_count": 45,
   "metadata": {},
   "outputs": [
    {
     "data": {
      "text/plain": [
       "array([[2, 3, 1, 2],\n",
       "       [0, 4, 5, 6]])"
      ]
     },
     "execution_count": 45,
     "metadata": {},
     "output_type": "execute_result"
    }
   ],
   "source": [
    "#array multidimensioni\n",
    "\n",
    "y = np.array([[2,3,1,2], [0,4,5,6]]) # 2 righe, 4 colonne\n",
    "y"
   ]
  },
  {
   "cell_type": "code",
   "execution_count": 47,
   "metadata": {},
   "outputs": [
    {
     "ename": "ValueError",
     "evalue": "setting an array element with a sequence. The requested array has an inhomogeneous shape after 1 dimensions. The detected shape was (3,) + inhomogeneous part.",
     "output_type": "error",
     "traceback": [
      "\u001b[0;31m---------------------------------------------------------------------------\u001b[0m",
      "\u001b[0;31mValueError\u001b[0m                                Traceback (most recent call last)",
      "Cell \u001b[0;32mIn[47], line 1\u001b[0m\n\u001b[0;32m----> 1\u001b[0m y1 \u001b[39m=\u001b[39m np\u001b[39m.\u001b[39;49marray([[\u001b[39m2\u001b[39;49m,\u001b[39m3\u001b[39;49m,\u001b[39m1\u001b[39;49m,\u001b[39m2\u001b[39;49m], [\u001b[39m0\u001b[39;49m,\u001b[39m4\u001b[39;49m,\u001b[39m5\u001b[39;49m,\u001b[39m6\u001b[39;49m], []]) \u001b[39m#rispettare il numero di colonne nei vettori sennò da errore\u001b[39;00m\n\u001b[1;32m      2\u001b[0m y1\n",
      "\u001b[0;31mValueError\u001b[0m: setting an array element with a sequence. The requested array has an inhomogeneous shape after 1 dimensions. The detected shape was (3,) + inhomogeneous part."
     ]
    }
   ],
   "source": [
    "y1 = np.array([[2,3,1,2], [0,4,5,6], []]) #rispettare il numero di colonne nei vettori sennò da errore\n",
    "y1"
   ]
  },
  {
   "cell_type": "code",
   "execution_count": 48,
   "metadata": {},
   "outputs": [
    {
     "data": {
      "text/plain": [
       "array([[2, 3, 1, 2],\n",
       "       [0, 4, 5, 6],\n",
       "       [0, 0, 0, 0]])"
      ]
     },
     "execution_count": 48,
     "metadata": {},
     "output_type": "execute_result"
    }
   ],
   "source": [
    "y2 = np.array([[2,3,1,2], [0,4,5,6], [0,0,0,0]]) # 3 righe 3 colonne\n",
    "y2"
   ]
  },
  {
   "cell_type": "code",
   "execution_count": 54,
   "metadata": {},
   "outputs": [
    {
     "data": {
      "text/plain": [
       "array([[1., 1., 1., 1.],\n",
       "       [1., 1., 1., 1.],\n",
       "       [1., 1., 1., 1.]])"
      ]
     },
     "execution_count": 54,
     "metadata": {},
     "output_type": "execute_result"
    }
   ],
   "source": [
    "#generare matrici di zero e/o uno\n",
    "\n",
    "w = np.zeros((3,2)) #devo passare una tupla a 2 valori o shape di un'altra matrice \n",
    "\n",
    "z = np.zeros(y2.shape)\n",
    "z\n",
    "\n",
    "u = np.ones(y2.shape)\n",
    "u"
   ]
  },
  {
   "cell_type": "code",
   "execution_count": 56,
   "metadata": {},
   "outputs": [
    {
     "data": {
      "text/plain": [
       "array([1, 3, 5, 7, 9])"
      ]
     },
     "execution_count": 56,
     "metadata": {},
     "output_type": "execute_result"
    }
   ],
   "source": [
    "# Range negli array \n",
    "ran = np.arange(1,10,2) #è possibile dare anche il tipo di variabile don dtype \n",
    "ran"
   ]
  },
  {
   "cell_type": "code",
   "execution_count": 60,
   "metadata": {},
   "outputs": [
    {
     "data": {
      "text/plain": [
       "array([ 1.        ,  2.57142857,  4.14285714,  5.71428571,  7.28571429,\n",
       "        8.85714286, 10.42857143, 12.        ])"
      ]
     },
     "execution_count": 60,
     "metadata": {},
     "output_type": "execute_result"
    }
   ],
   "source": [
    "#LinSpace \n",
    "# crea un array da un num iniziale a uno finale con tanti elementi quanti indicati. La differenza tra numeri adiacenti è la stessa in tutto l'array\n",
    "\n",
    "lin_spacing = np.linspace(1., 12, 8)\n",
    "lin_spacing"
   ]
  },
  {
   "cell_type": "code",
   "execution_count": 61,
   "metadata": {},
   "outputs": [
    {
     "data": {
      "text/plain": [
       "array([ 0,  1,  2,  3,  4,  5,  6,  7,  8,  9, 10, 11, 12, 13, 14, 15, 16,\n",
       "       17, 18, 19, 20, 21, 22, 23, 24, 25, 26, 27, 28, 29])"
      ]
     },
     "execution_count": 61,
     "metadata": {},
     "output_type": "execute_result"
    }
   ],
   "source": [
    "###ma che belli gli array che ci puoi fare la matematica \n",
    "alfa = np.arange(30)\n",
    "alfa"
   ]
  },
  {
   "cell_type": "code",
   "execution_count": 63,
   "metadata": {},
   "outputs": [
    {
     "data": {
      "text/plain": [
       "array([0.        , 0.33333333, 0.66666667, 1.        , 1.33333333,\n",
       "       1.66666667, 2.        , 2.33333333, 2.66666667, 3.        ,\n",
       "       3.33333333, 3.66666667, 4.        , 4.33333333, 4.66666667,\n",
       "       5.        , 5.33333333, 5.66666667, 6.        , 6.33333333,\n",
       "       6.66666667, 7.        , 7.33333333, 7.66666667, 8.        ,\n",
       "       8.33333333, 8.66666667, 9.        , 9.33333333, 9.66666667])"
      ]
     },
     "execution_count": 63,
     "metadata": {},
     "output_type": "execute_result"
    }
   ],
   "source": [
    "alfa / 3 #divide ogni elemento dell'array per 3"
   ]
  },
  {
   "cell_type": "code",
   "execution_count": 66,
   "metadata": {},
   "outputs": [
    {
     "data": {
      "text/plain": [
       "array([ 0,  1,  2,  3,  4,  5,  6,  7,  8,  9, 10, 11, 12, 13, 14, 15, 16,\n",
       "       17, 18, 19, 20, 21, 22, 23, 24, 25, 26, 27, 28, 29])"
      ]
     },
     "execution_count": 66,
     "metadata": {},
     "output_type": "execute_result"
    }
   ],
   "source": [
    "alfa.sort()\n",
    "alfa"
   ]
  },
  {
   "cell_type": "code",
   "execution_count": 68,
   "metadata": {},
   "outputs": [
    {
     "data": {
      "text/plain": [
       "array([ 0.        ,  1.03448276,  2.06896552,  3.10344828,  4.13793103,\n",
       "        5.17241379,  6.20689655,  7.24137931,  8.27586207,  9.31034483,\n",
       "       10.34482759, 11.37931034, 12.4137931 , 13.44827586, 14.48275862,\n",
       "       15.51724138, 16.55172414, 17.5862069 , 18.62068966, 19.65517241,\n",
       "       20.68965517, 21.72413793, 22.75862069, 23.79310345, 24.82758621,\n",
       "       25.86206897, 26.89655172, 27.93103448, 28.96551724, 30.        ])"
      ]
     },
     "execution_count": 68,
     "metadata": {},
     "output_type": "execute_result"
    }
   ],
   "source": [
    "beta = np.linspace(0, 30, 30)\n",
    "beta"
   ]
  },
  {
   "cell_type": "code",
   "execution_count": 69,
   "metadata": {},
   "outputs": [
    {
     "data": {
      "text/plain": [
       "array([ 0.        ,  2.03448276,  4.06896552,  6.10344828,  8.13793103,\n",
       "       10.17241379, 12.20689655, 14.24137931, 16.27586207, 18.31034483,\n",
       "       20.34482759, 22.37931034, 24.4137931 , 26.44827586, 28.48275862,\n",
       "       30.51724138, 32.55172414, 34.5862069 , 36.62068966, 38.65517241,\n",
       "       40.68965517, 42.72413793, 44.75862069, 46.79310345, 48.82758621,\n",
       "       50.86206897, 52.89655172, 54.93103448, 56.96551724, 59.        ])"
      ]
     },
     "execution_count": 69,
     "metadata": {},
     "output_type": "execute_result"
    }
   ],
   "source": [
    "alfa + beta"
   ]
  },
  {
   "attachments": {},
   "cell_type": "markdown",
   "metadata": {},
   "source": [
    "---\n",
    "\n",
    "# Algebra Booleana\n",
    "\n",
    "**True** & **False**\n"
   ]
  },
  {
   "cell_type": "code",
   "execution_count": 70,
   "metadata": {},
   "outputs": [
    {
     "data": {
      "text/plain": [
       "2"
      ]
     },
     "execution_count": 70,
     "metadata": {},
     "output_type": "execute_result"
    }
   ],
   "source": [
    "True + True #è come bestemmiare!!!"
   ]
  },
  {
   "cell_type": "code",
   "execution_count": 71,
   "metadata": {},
   "outputs": [
    {
     "data": {
      "text/plain": [
       "True"
      ]
     },
     "execution_count": 71,
     "metadata": {},
     "output_type": "execute_result"
    }
   ],
   "source": [
    "#Espressioni Booleane \n",
    "\n",
    "50 >= 40.9999"
   ]
  },
  {
   "cell_type": "code",
   "execution_count": 72,
   "metadata": {},
   "outputs": [
    {
     "data": {
      "text/plain": [
       "True"
      ]
     },
     "execution_count": 72,
     "metadata": {},
     "output_type": "execute_result"
    }
   ],
   "source": [
    "10//2 == 11//2"
   ]
  },
  {
   "cell_type": "code",
   "execution_count": 73,
   "metadata": {},
   "outputs": [
    {
     "data": {
      "text/plain": [
       "False"
      ]
     },
     "execution_count": 73,
     "metadata": {},
     "output_type": "execute_result"
    }
   ],
   "source": [
    "'ciao' == 'goodbay'"
   ]
  },
  {
   "cell_type": "code",
   "execution_count": 75,
   "metadata": {},
   "outputs": [
    {
     "data": {
      "text/plain": [
       "True"
      ]
     },
     "execution_count": 75,
     "metadata": {},
     "output_type": "execute_result"
    }
   ],
   "source": [
    "'ciao' != 'Ciao' # case sensitive"
   ]
  },
  {
   "attachments": {},
   "cell_type": "markdown",
   "metadata": {},
   "source": [
    "#### And "
   ]
  },
  {
   "cell_type": "code",
   "execution_count": 76,
   "metadata": {},
   "outputs": [
    {
     "data": {
      "text/plain": [
       "False"
      ]
     },
     "execution_count": 76,
     "metadata": {},
     "output_type": "execute_result"
    }
   ],
   "source": [
    "5 > 6 and 6 > 5 "
   ]
  },
  {
   "cell_type": "code",
   "execution_count": 77,
   "metadata": {},
   "outputs": [
    {
     "data": {
      "text/plain": [
       "True"
      ]
     },
     "execution_count": 77,
     "metadata": {},
     "output_type": "execute_result"
    }
   ],
   "source": [
    "6>5 and 7>4"
   ]
  },
  {
   "attachments": {},
   "cell_type": "markdown",
   "metadata": {},
   "source": [
    "#### Or"
   ]
  },
  {
   "cell_type": "code",
   "execution_count": 78,
   "metadata": {},
   "outputs": [
    {
     "data": {
      "text/plain": [
       "True"
      ]
     },
     "execution_count": 78,
     "metadata": {},
     "output_type": "execute_result"
    }
   ],
   "source": [
    "5 > 6 or 6 > 5 "
   ]
  },
  {
   "attachments": {},
   "cell_type": "markdown",
   "metadata": {},
   "source": [
    "#### not "
   ]
  },
  {
   "cell_type": "code",
   "execution_count": 79,
   "metadata": {},
   "outputs": [
    {
     "data": {
      "text/plain": [
       "False"
      ]
     },
     "execution_count": 79,
     "metadata": {},
     "output_type": "execute_result"
    }
   ],
   "source": [
    "not 3 == 3 #nega l'espressione"
   ]
  },
  {
   "attachments": {},
   "cell_type": "markdown",
   "metadata": {},
   "source": [
    "---\n",
    "\n",
    "### Esercizio\n",
    "Validatori\n",
    "\n",
    "verificare se la variabile età è maggiore di 18 anni, il programma dovrebbe controllare il valore della variabile e dare un output per ogni caso."
   ]
  },
  {
   "cell_type": "code",
   "execution_count": 95,
   "metadata": {},
   "outputs": [
    {
     "name": "stdout",
     "output_type": "stream",
     "text": [
      "Sei maggiorenne, entra!\n"
     ]
    }
   ],
   "source": [
    "eta = 19\n",
    "\n",
    "if eta < 18:\n",
    "    print(\"Stai fuori, sei minorenne\")\n",
    "else:\n",
    "    print(\"Sei maggiorenne, entra!\")\n"
   ]
  },
  {
   "cell_type": "code",
   "execution_count": 100,
   "metadata": {},
   "outputs": [
    {
     "name": "stdout",
     "output_type": "stream",
     "text": [
      "Hai inserito un numero errato\n"
     ]
    }
   ],
   "source": [
    "# Else If elif\n",
    "eta = -12\n",
    "\n",
    "if eta <= 0:\n",
    "    print('Hai inserito un numero errato')\n",
    "elif eta < 10:\n",
    "    print('sei un bimbo')\n",
    "elif eta <= 18:\n",
    "    print('sei un regaz')\n",
    "elif eta < 50:\n",
    "    print('boomer')\n",
    "else:\n",
    "    print('vecchio')"
   ]
  },
  {
   "cell_type": "code",
   "execution_count": 93,
   "metadata": {},
   "outputs": [
    {
     "name": "stdout",
     "output_type": "stream",
     "text": [
      "se hai il cash ti do la macchina!\n"
     ]
    }
   ],
   "source": [
    "patente = True\n",
    "\n",
    "if eta >= 18 and patente:\n",
    "    print(\"se hai il cash ti do la macchina!\")\n",
    "elif eta < 18:\n",
    "    print(\"vai alla hertz a vedere cosa ti dicono...\")"
   ]
  },
  {
   "cell_type": "code",
   "execution_count": 102,
   "metadata": {},
   "outputs": [
    {
     "data": {
      "text/plain": [
       "'hi'"
      ]
     },
     "execution_count": 102,
     "metadata": {},
     "output_type": "execute_result"
    }
   ],
   "source": [
    "# INPUT\n",
    "\n",
    "in_data = input('inserire qualcosa')\n",
    "in_data"
   ]
  },
  {
   "cell_type": "code",
   "execution_count": 103,
   "metadata": {},
   "outputs": [
    {
     "name": "stdout",
     "output_type": "stream",
     "text": [
      "buon pomeriggio pg!\n"
     ]
    }
   ],
   "source": [
    "nome = input('inserire il tuo nome ')\n",
    "print('buon pomeriggio ' + nome + '!')\n"
   ]
  },
  {
   "cell_type": "code",
   "execution_count": 104,
   "metadata": {},
   "outputs": [
    {
     "name": "stdout",
     "output_type": "stream",
     "text": [
      "Ciao pg al momento hai 34 anni.\n",
      "L'anno prossimo avrai 35\n"
     ]
    }
   ],
   "source": [
    "####Input numeri\n",
    "#input prende solo stringhe quindi dobbiamo convertire i numeri se vogliamo usarli in operazioni aritmetiche \n",
    "\n",
    "eta = input('quanti anni hai? ')\n",
    "print(\"Ciao \" + nome + \" al momento hai \" + eta + \" anni.\\n\"+ \"L'anno prossimo avrai \" + str(int(eta) + 1))"
   ]
  },
  {
   "cell_type": "code",
   "execution_count": 108,
   "metadata": {},
   "outputs": [
    {
     "name": "stdout",
     "output_type": "stream",
     "text": [
      "1\n"
     ]
    }
   ],
   "source": [
    "### Noleggio check\n",
    "\n",
    "patente = input('inserisci una lettera qualsiasi se hai la patente')\n",
    "\n",
    "eta = input('quanti anni hai?')\n",
    "if eta >= 18 and patente:\n",
    "    \"\"\"se patente è stringa vuota il booleano è False se c'è qualsiasi\n",
    "    cosa torna True\"\"\"\n",
    "    print(\"puoi noleggiare... se hai la grana\")\n",
    "else:\n",
    "    print(\"ciccia\")\n"
   ]
  },
  {
   "attachments": {},
   "cell_type": "markdown",
   "metadata": {},
   "source": [
    "### While loop\n",
    "\n",
    "Per cicli di cui non conosco a priori il numero di iterazioni da compiere"
   ]
  },
  {
   "cell_type": "code",
   "execution_count": 2,
   "metadata": {},
   "outputs": [
    {
     "name": "stdout",
     "output_type": "stream",
     "text": [
      "il numero inserito è 100\n"
     ]
    }
   ],
   "source": [
    "##While\n",
    "\n",
    "while True: #è una bestemmia\n",
    "    \"\"\"chiede numeri interi in input finchè non viene inserito il numero 100\"\"\"\n",
    "    numero = int(input(\"inserisci un numero\"))\n",
    "    if numero >= 100:\n",
    "        print(f\"il numero inserito è {numero}\")\n",
    "        break\n",
    "\n",
    "\n"
   ]
  },
  {
   "cell_type": "code",
   "execution_count": 7,
   "metadata": {},
   "outputs": [
    {
     "name": "stdout",
     "output_type": "stream",
     "text": [
      "0\n",
      "il numero inserito è 12\n",
      "il numero inserito è 32\n",
      "il numero inserito è 43\n",
      "il numero inserito è 100\n",
      "il numero inserito è 100\n",
      "il numero inserito è 120\n"
     ]
    }
   ],
   "source": [
    "n = 0\n",
    "print(n)\n",
    "\n",
    "while n < 100:\n",
    "    n = int(input(\"inserisci un numero\"))\n",
    "    print(f\"il numero inserito è {n}\")"
   ]
  }
 ],
 "metadata": {
  "kernelspec": {
   "display_name": "lun20_03",
   "language": "python",
   "name": "python3"
  },
  "language_info": {
   "codemirror_mode": {
    "name": "ipython",
    "version": 3
   },
   "file_extension": ".py",
   "mimetype": "text/x-python",
   "name": "python",
   "nbconvert_exporter": "python",
   "pygments_lexer": "ipython3",
   "version": "3.10.6"
  },
  "orig_nbformat": 4
 },
 "nbformat": 4,
 "nbformat_minor": 2
}
