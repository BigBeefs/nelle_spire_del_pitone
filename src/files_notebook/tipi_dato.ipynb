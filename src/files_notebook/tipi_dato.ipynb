{
 "cells": [
  {
   "attachments": {},
   "cell_type": "markdown",
   "metadata": {},
   "source": [
    "## Tipi dato\n",
    "\n",
    "[w3school tipi dato python](https://www.w3schools.com/python/python_datatypes.asp)\n",
    "\n",
    "python nasce per semplificare i linguaggi di programmazione e quindi la tipizzazione dei dati è stata rimossa. Questo in certe situazioni può creare problemi o costringere il programmatore a scrivere più codice per far si che non ci siano problemi.\n",
    "\n",
    "Per ovviare, in parte, a questo python permette di associare alla dichiarazione delle variabili, una sorta di etichetta per indicare il tipo file.\n",
    "\n",
    "Questa non è una dichiarazione nel senso che non preclude la creazione della variabile se il tipo dato è sbagliato, ma serve solo a chi scrive il codice per capire cosa andrebbe a quella particolare variabile."
   ]
  },
  {
   "cell_type": "code",
   "execution_count": 1,
   "metadata": {},
   "outputs": [
    {
     "data": {
      "text/plain": [
       "int"
      ]
     },
     "execution_count": 1,
     "metadata": {},
     "output_type": "execute_result"
    }
   ],
   "source": [
    "numero: int = 42\n",
    "type(numero)"
   ]
  },
  {
   "cell_type": "code",
   "execution_count": 2,
   "metadata": {},
   "outputs": [
    {
     "name": "stdout",
     "output_type": "stream",
     "text": [
      "1 <class 'int'>\n"
     ]
    }
   ],
   "source": [
    "stringa1: str = 1\n",
    "print(stringa1, type(stringa1)) # Non genera nessun errore!"
   ]
  },
  {
   "attachments": {},
   "cell_type": "markdown",
   "metadata": {},
   "source": [
    ">*osservazione, type è una funzione di python infatti la usiamo chiamandola (scrivendo type) e passandogli un parametro. Fatto questo ci ritorna un valore (la stringa \"int\" in questo caso*"
   ]
  },
  {
   "cell_type": "code",
   "execution_count": 3,
   "metadata": {},
   "outputs": [
    {
     "data": {
      "text/plain": [
       "str"
      ]
     },
     "execution_count": 3,
     "metadata": {},
     "output_type": "execute_result"
    }
   ],
   "source": [
    "frase: str = \"https://it.wikipedia.org/wiki/Python\"\n",
    "type(frase)"
   ]
  }
 ],
 "metadata": {
  "kernelspec": {
   "display_name": "pyside6",
   "language": "python",
   "name": "python3"
  },
  "language_info": {
   "codemirror_mode": {
    "name": "ipython",
    "version": 3
   },
   "file_extension": ".py",
   "mimetype": "text/x-python",
   "name": "python",
   "nbconvert_exporter": "python",
   "pygments_lexer": "ipython3",
   "version": "3.10.6"
  },
  "orig_nbformat": 4,
  "vscode": {
   "interpreter": {
    "hash": "a2a35f617bdf2858311d377729af0ef6f0802a6ff0d82a20cff5537ac65c0b45"
   }
  }
 },
 "nbformat": 4,
 "nbformat_minor": 2
}
